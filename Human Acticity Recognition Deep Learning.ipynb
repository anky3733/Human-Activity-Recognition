{
 "cells": [
  {
   "cell_type": "code",
   "execution_count": 1,
   "metadata": {},
   "outputs": [],
   "source": [
    "# Importing Libraries"
   ]
  },
  {
   "cell_type": "code",
   "execution_count": 2,
   "metadata": {},
   "outputs": [
    {
     "name": "stderr",
     "output_type": "stream",
     "text": [
      "C:\\Users\\Home\\Anaconda\\lib\\site-packages\\h5py\\__init__.py:36: FutureWarning: Conversion of the second argument of issubdtype from `float` to `np.floating` is deprecated. In future, it will be treated as `np.float64 == np.dtype(float).type`.\n",
      "  from ._conv import register_converters as _register_converters\n",
      "Using TensorFlow backend.\n"
     ]
    }
   ],
   "source": [
    "import pandas as pd\n",
    "import numpy as np\n",
    "import keras\n",
    "from keras.models import Sequential\n",
    "from sklearn.model_selection import GridSearchCV,RandomizedSearchCV\n",
    "from keras.wrappers.scikit_learn import KerasClassifier\n",
    "from keras.optimizers import SGD\n",
    "from keras.models import Sequential\n",
    "from keras.layers import Dense, Dropout, Activation, Flatten\n",
    "from keras.layers import Conv2D, MaxPooling1D,Conv1D\n",
    "from keras.constraints import maxnorm"
   ]
  },
  {
   "cell_type": "code",
   "execution_count": 3,
   "metadata": {},
   "outputs": [],
   "source": [
    "# Activities are the class labels\n",
    "# It is a 6 class classification\n",
    "ACTIVITIES = {\n",
    "    0: 'WALKING',\n",
    "    1: 'WALKING_UPSTAIRS',\n",
    "    2: 'WALKING_DOWNSTAIRS',\n",
    "    3: 'SITTING',\n",
    "    4: 'STANDING',\n",
    "    5: 'LAYING',\n",
    "}\n",
    "\n",
    "# Utility function to print the confusion matrix\n",
    "def confusion_matrix(Y_true, Y_pred):\n",
    "    Y_true = pd.Series([ACTIVITIES[y] for y in np.argmax(Y_true, axis=1)])\n",
    "    Y_pred = pd.Series([ACTIVITIES[y] for y in np.argmax(Y_pred, axis=1)])\n",
    "\n",
    "    return pd.crosstab(Y_true, Y_pred, rownames=['True'], colnames=['Pred'])"
   ]
  },
  {
   "cell_type": "markdown",
   "metadata": {},
   "source": [
    "### Data"
   ]
  },
  {
   "cell_type": "code",
   "execution_count": 4,
   "metadata": {},
   "outputs": [],
   "source": [
    "# Data directory\n",
    "DATADIR = 'UCI_HAR_Dataset'"
   ]
  },
  {
   "cell_type": "code",
   "execution_count": 5,
   "metadata": {},
   "outputs": [],
   "source": [
    "# Raw data signals\n",
    "# Signals are from Accelerometer and Gyroscope\n",
    "# The signals are in x,y,z directions\n",
    "# Sensor signals are filtered to have only body acceleration\n",
    "# excluding the acceleration due to gravity\n",
    "# Triaxial acceleration from the accelerometer is total acceleration\n",
    "SIGNALS = [\n",
    "    \"body_acc_x\",\n",
    "    \"body_acc_y\",\n",
    "    \"body_acc_z\",\n",
    "    \"body_gyro_x\",\n",
    "    \"body_gyro_y\",\n",
    "    \"body_gyro_z\",\n",
    "    \"total_acc_x\",\n",
    "    \"total_acc_y\",\n",
    "    \"total_acc_z\"\n",
    "]"
   ]
  },
  {
   "cell_type": "code",
   "execution_count": 6,
   "metadata": {},
   "outputs": [],
   "source": [
    "# Utility function to read the data from csv file\n",
    "def _read_csv(filename):\n",
    "    return pd.read_csv(filename, delim_whitespace=True, header=None)\n",
    "\n",
    "# Utility function to load the load\n",
    "def load_signals(subset):\n",
    "    signals_data = []\n",
    "\n",
    "    for signal in SIGNALS:\n",
    "        filename = f'UCI_HAR_Dataset/{subset}/Inertial Signals/{signal}_{subset}.txt'\n",
    "        signals_data.append(\n",
    "            _read_csv(filename).as_matrix()\n",
    "        ) \n",
    "\n",
    "    # Transpose is used to change the dimensionality of the output,\n",
    "    # aggregating the signals by combination of sample/timestep.\n",
    "    # Resultant shape is (7352 train/2947 test samples, 128 timesteps, 9 signals)\n",
    "    return np.transpose(signals_data, (1, 2, 0))"
   ]
  },
  {
   "cell_type": "code",
   "execution_count": 7,
   "metadata": {},
   "outputs": [],
   "source": [
    "\n",
    "def load_y(subset):\n",
    "    \"\"\"\n",
    "    The objective that we are trying to predict is a integer, from 1 to 6,\n",
    "    that represents a human activity. We return a binary representation of \n",
    "    every sample objective as a 6 bits vector using One Hot Encoding\n",
    "    (https://pandas.pydata.org/pandas-docs/stable/generated/pandas.get_dummies.html)\n",
    "    \"\"\"\n",
    "    filename = f'UCI_HAR_Dataset/{subset}/y_{subset}.txt'\n",
    "    y = _read_csv(filename)[0]\n",
    "\n",
    "    return pd.get_dummies(y).as_matrix()"
   ]
  },
  {
   "cell_type": "code",
   "execution_count": 8,
   "metadata": {},
   "outputs": [],
   "source": [
    "def load_data():\n",
    "    \"\"\"\n",
    "    Obtain the dataset from multiple files.\n",
    "    Returns: X_train, X_test, y_train, y_test\n",
    "    \"\"\"\n",
    "    X_train, X_test = load_signals('train'), load_signals('test')\n",
    "    y_train, y_test = load_y('train'), load_y('test')\n",
    "\n",
    "    return X_train, X_test, y_train, y_test"
   ]
  },
  {
   "cell_type": "code",
   "execution_count": 9,
   "metadata": {},
   "outputs": [],
   "source": [
    "# Importing tensorflow\n",
    "np.random.seed(42)\n",
    "import tensorflow as tf\n",
    "tf.set_random_seed(42)"
   ]
  },
  {
   "cell_type": "code",
   "execution_count": 10,
   "metadata": {},
   "outputs": [],
   "source": [
    "# Configuring a session\n",
    "session_conf = tf.ConfigProto(\n",
    "    intra_op_parallelism_threads=1,\n",
    "    inter_op_parallelism_threads=1\n",
    ")"
   ]
  },
  {
   "cell_type": "code",
   "execution_count": 11,
   "metadata": {},
   "outputs": [],
   "source": [
    "# Import Keras\n",
    "from keras import backend as K\n",
    "sess = tf.Session(graph=tf.get_default_graph(), config=session_conf)\n",
    "K.set_session(sess)"
   ]
  },
  {
   "cell_type": "code",
   "execution_count": 12,
   "metadata": {},
   "outputs": [],
   "source": [
    "# Importing libraries\n",
    "from keras.models import Sequential\n",
    "from keras.layers import LSTM\n",
    "from keras.layers.core import Dense, Dropout"
   ]
  },
  {
   "cell_type": "code",
   "execution_count": 13,
   "metadata": {},
   "outputs": [],
   "source": [
    "# Initializing parameters\n",
    "epochs = 30\n",
    "batch_size = 16\n",
    "n_hidden = 32"
   ]
  },
  {
   "cell_type": "code",
   "execution_count": 14,
   "metadata": {},
   "outputs": [],
   "source": [
    "# Utility function to count the number of classes\n",
    "def _count_classes(y):\n",
    "    return len(set([tuple(category) for category in y]))"
   ]
  },
  {
   "cell_type": "code",
   "execution_count": 15,
   "metadata": {},
   "outputs": [
    {
     "name": "stderr",
     "output_type": "stream",
     "text": [
      "C:\\Users\\Home\\Anaconda\\lib\\site-packages\\ipykernel_launcher.py:12: FutureWarning: Method .as_matrix will be removed in a future version. Use .values instead.\n",
      "  if sys.path[0] == '':\n"
     ]
    }
   ],
   "source": [
    "# Loading the train and test data\n",
    "X_train, X_test, Y_train, Y_test = load_data()"
   ]
  },
  {
   "cell_type": "code",
   "execution_count": 16,
   "metadata": {},
   "outputs": [
    {
     "name": "stdout",
     "output_type": "stream",
     "text": [
      "128\n",
      "9\n",
      "7352\n"
     ]
    }
   ],
   "source": [
    "timesteps = len(X_train[0])\n",
    "input_dim = len(X_train[0][0])\n",
    "n_classes = _count_classes(Y_train)\n",
    "\n",
    "print(timesteps)\n",
    "print(input_dim)\n",
    "print(len(X_train))"
   ]
  },
  {
   "cell_type": "code",
   "execution_count": 17,
   "metadata": {},
   "outputs": [
    {
     "data": {
      "text/plain": [
       "6"
      ]
     },
     "execution_count": 17,
     "metadata": {},
     "output_type": "execute_result"
    }
   ],
   "source": [
    "n_classes"
   ]
  },
  {
   "cell_type": "markdown",
   "metadata": {},
   "source": [
    "- Defining the Architecture of LSTM"
   ]
  },
  {
   "cell_type": "code",
   "execution_count": 17,
   "metadata": {},
   "outputs": [
    {
     "name": "stdout",
     "output_type": "stream",
     "text": [
      "_________________________________________________________________\n",
      "Layer (type)                 Output Shape              Param #   \n",
      "=================================================================\n",
      "lstm_1 (LSTM)                (None, 32)                5376      \n",
      "_________________________________________________________________\n",
      "dropout_1 (Dropout)          (None, 32)                0         \n",
      "_________________________________________________________________\n",
      "dense_1 (Dense)              (None, 6)                 198       \n",
      "=================================================================\n",
      "Total params: 5,574\n",
      "Trainable params: 5,574\n",
      "Non-trainable params: 0\n",
      "_________________________________________________________________\n"
     ]
    }
   ],
   "source": [
    "# Initiliazing the sequential model\n",
    "model = Sequential()\n",
    "# Configuring the parameters\n",
    "model.add(LSTM(n_hidden, input_shape=(timesteps, input_dim)))\n",
    "# Adding a dropout layer\n",
    "model.add(Dropout(0.5))\n",
    "# Adding a dense output layer with sigmoid activation\n",
    "model.add(Dense(n_classes, activation='sigmoid'))\n",
    "model.summary()"
   ]
  },
  {
   "cell_type": "code",
   "execution_count": 18,
   "metadata": {},
   "outputs": [],
   "source": [
    "# Compiling the model\n",
    "model.compile(loss='categorical_crossentropy',\n",
    "              optimizer='rmsprop',\n",
    "              metrics=['accuracy'])"
   ]
  },
  {
   "cell_type": "code",
   "execution_count": 19,
   "metadata": {},
   "outputs": [
    {
     "name": "stdout",
     "output_type": "stream",
     "text": [
      "Train on 7352 samples, validate on 2947 samples\n",
      "Epoch 1/30\n",
      "7352/7352 [==============================] - 27s 4ms/step - loss: 1.3093 - acc: 0.4391 - val_loss: 1.1381 - val_acc: 0.4768\n",
      "Epoch 2/30\n",
      "7352/7352 [==============================] - 26s 4ms/step - loss: 0.9732 - acc: 0.5876 - val_loss: 0.9129 - val_acc: 0.6033\n",
      "Epoch 3/30\n",
      "7352/7352 [==============================] - 27s 4ms/step - loss: 0.7906 - acc: 0.6436 - val_loss: 0.8107 - val_acc: 0.5986\n",
      "Epoch 4/30\n",
      "7352/7352 [==============================] - 26s 4ms/step - loss: 0.7050 - acc: 0.6549 - val_loss: 0.9490 - val_acc: 0.5724\n",
      "Epoch 5/30\n",
      "7352/7352 [==============================] - 27s 4ms/step - loss: 0.6609 - acc: 0.6696 - val_loss: 0.7249 - val_acc: 0.6210\n",
      "Epoch 6/30\n",
      "7352/7352 [==============================] - 26s 4ms/step - loss: 0.6153 - acc: 0.6772 - val_loss: 0.7109 - val_acc: 0.6328\n",
      "Epoch 7/30\n",
      "7352/7352 [==============================] - 26s 4ms/step - loss: 0.5776 - acc: 0.7111 - val_loss: 0.6593 - val_acc: 0.7034\n",
      "Epoch 8/30\n",
      "7352/7352 [==============================] - 27s 4ms/step - loss: 0.5497 - acc: 0.7410 - val_loss: 0.6724 - val_acc: 0.7313\n",
      "Epoch 9/30\n",
      "7352/7352 [==============================] - 27s 4ms/step - loss: 0.5045 - acc: 0.7701 - val_loss: 0.6079 - val_acc: 0.7401\n",
      "Epoch 10/30\n",
      "7352/7352 [==============================] - 26s 4ms/step - loss: 0.4568 - acc: 0.7814 - val_loss: 0.5435 - val_acc: 0.7350\n",
      "Epoch 11/30\n",
      "7352/7352 [==============================] - 27s 4ms/step - loss: 0.4124 - acc: 0.7888 - val_loss: 0.5595 - val_acc: 0.7465\n",
      "Epoch 12/30\n",
      "7352/7352 [==============================] - 26s 4ms/step - loss: 0.4566 - acc: 0.7939 - val_loss: 0.5461 - val_acc: 0.7567\n",
      "Epoch 13/30\n",
      "7352/7352 [==============================] - 27s 4ms/step - loss: 0.3763 - acc: 0.8277 - val_loss: 0.7926 - val_acc: 0.7089\n",
      "Epoch 14/30\n",
      "7352/7352 [==============================] - 27s 4ms/step - loss: 0.3406 - acc: 0.8561 - val_loss: 0.6553 - val_acc: 0.8660\n",
      "Epoch 15/30\n",
      "7352/7352 [==============================] - 26s 4ms/step - loss: 0.3090 - acc: 0.8879 - val_loss: 0.6104 - val_acc: 0.8286\n",
      "Epoch 16/30\n",
      "7352/7352 [==============================] - 27s 4ms/step - loss: 0.2898 - acc: 0.9154 - val_loss: 0.3942 - val_acc: 0.8819\n",
      "Epoch 17/30\n",
      "7352/7352 [==============================] - 27s 4ms/step - loss: 0.2515 - acc: 0.9286 - val_loss: 0.4472 - val_acc: 0.8724\n",
      "Epoch 18/30\n",
      "7352/7352 [==============================] - 25s 3ms/step - loss: 0.2605 - acc: 0.9259 - val_loss: 0.4880 - val_acc: 0.8731\n",
      "Epoch 19/30\n",
      "7352/7352 [==============================] - 25s 3ms/step - loss: 0.2704 - acc: 0.9267 - val_loss: 0.4488 - val_acc: 0.8897\n",
      "Epoch 20/30\n",
      "7352/7352 [==============================] - 26s 4ms/step - loss: 0.1904 - acc: 0.9393 - val_loss: 0.4969 - val_acc: 0.8812\n",
      "Epoch 21/30\n",
      "7352/7352 [==============================] - 27s 4ms/step - loss: 0.2101 - acc: 0.9362 - val_loss: 0.3765 - val_acc: 0.8914\n",
      "Epoch 22/30\n",
      "7352/7352 [==============================] - 26s 4ms/step - loss: 0.2094 - acc: 0.9399 - val_loss: 1.2162 - val_acc: 0.8073\n",
      "Epoch 23/30\n",
      "7352/7352 [==============================] - 26s 4ms/step - loss: 0.2348 - acc: 0.9317 - val_loss: 0.4703 - val_acc: 0.8918\n",
      "Epoch 24/30\n",
      "7352/7352 [==============================] - 26s 4ms/step - loss: 0.1992 - acc: 0.9372 - val_loss: 0.4558 - val_acc: 0.8938\n",
      "Epoch 25/30\n",
      "7352/7352 [==============================] - 26s 4ms/step - loss: 0.2768 - acc: 0.9280 - val_loss: 0.6071 - val_acc: 0.8751\n",
      "Epoch 26/30\n",
      "7352/7352 [==============================] - 26s 4ms/step - loss: 0.2887 - acc: 0.9142 - val_loss: 0.4094 - val_acc: 0.8935\n",
      "Epoch 27/30\n",
      "7352/7352 [==============================] - 26s 4ms/step - loss: 0.1723 - acc: 0.9437 - val_loss: 0.4660 - val_acc: 0.8904\n",
      "Epoch 28/30\n",
      "7352/7352 [==============================] - 26s 4ms/step - loss: 0.1727 - acc: 0.9444 - val_loss: 0.4393 - val_acc: 0.8945\n",
      "Epoch 29/30\n",
      "7352/7352 [==============================] - 26s 4ms/step - loss: 0.1656 - acc: 0.9457 - val_loss: 0.4623 - val_acc: 0.8951\n",
      "Epoch 30/30\n",
      "7352/7352 [==============================] - 26s 4ms/step - loss: 0.1439 - acc: 0.9470 - val_loss: 0.4298 - val_acc: 0.9023\n"
     ]
    },
    {
     "data": {
      "text/plain": [
       "<keras.callbacks.History at 0x12b23cc0>"
      ]
     },
     "execution_count": 19,
     "metadata": {},
     "output_type": "execute_result"
    }
   ],
   "source": [
    "# Training the model\n",
    "model.fit(X_train,\n",
    "          Y_train,\n",
    "          batch_size=batch_size,\n",
    "          validation_data=(X_test, Y_test),\n",
    "          epochs=epochs)"
   ]
  },
  {
   "cell_type": "code",
   "execution_count": 20,
   "metadata": {},
   "outputs": [
    {
     "name": "stdout",
     "output_type": "stream",
     "text": [
      "Pred                LAYING  SITTING  STANDING  WALKING  WALKING_DOWNSTAIRS  \\\n",
      "True                                                                         \n",
      "LAYING                 510        0         0        0                   0   \n",
      "SITTING                  0      413        73        0                   0   \n",
      "STANDING                 0      107       425        0                   0   \n",
      "WALKING                  0        0         0      465                  22   \n",
      "WALKING_DOWNSTAIRS       0        0         0        1                 412   \n",
      "WALKING_UPSTAIRS         0        0         0       32                   5   \n",
      "\n",
      "Pred                WALKING_UPSTAIRS  \n",
      "True                                  \n",
      "LAYING                            27  \n",
      "SITTING                            5  \n",
      "STANDING                           0  \n",
      "WALKING                            9  \n",
      "WALKING_DOWNSTAIRS                 7  \n",
      "WALKING_UPSTAIRS                 434  \n"
     ]
    }
   ],
   "source": [
    "# Confusion Matrix\n",
    "print(confusion_matrix(Y_test, model.predict(X_test)))"
   ]
  },
  {
   "cell_type": "code",
   "execution_count": 21,
   "metadata": {},
   "outputs": [
    {
     "name": "stdout",
     "output_type": "stream",
     "text": [
      "2947/2947 [==============================] - 1s 363us/step\n"
     ]
    }
   ],
   "source": [
    "score = model.evaluate(X_test, Y_test)"
   ]
  },
  {
   "cell_type": "code",
   "execution_count": 22,
   "metadata": {},
   "outputs": [
    {
     "data": {
      "text/plain": [
       "[0.42977901058258233, 0.9022734984730234]"
      ]
     },
     "execution_count": 22,
     "metadata": {},
     "output_type": "execute_result"
    }
   ],
   "source": [
    "#  score"
   ]
  },
  {
   "cell_type": "code",
   "execution_count": 43,
   "metadata": {},
   "outputs": [
    {
     "data": {
      "text/plain": [
       "(7352, 6)"
      ]
     },
     "execution_count": 43,
     "metadata": {},
     "output_type": "execute_result"
    }
   ],
   "source": [
    "Y_train.shape"
   ]
  },
  {
   "cell_type": "markdown",
   "metadata": {},
   "source": [
    "- With a simple 2 layer architecture we got 90.09% accuracy and a loss of 0.30\n",
    "- We can further imporve the performace with Hyperparameter tuning"
   ]
  },
  {
   "cell_type": "markdown",
   "metadata": {},
   "source": [
    "## Basic CNN Model"
   ]
  },
  {
   "cell_type": "code",
   "execution_count": 84,
   "metadata": {},
   "outputs": [
    {
     "name": "stdout",
     "output_type": "stream",
     "text": [
      "_________________________________________________________________\n",
      "Layer (type)                 Output Shape              Param #   \n",
      "=================================================================\n",
      "conv1d_22 (Conv1D)           (None, 128, 32)           2912      \n",
      "_________________________________________________________________\n",
      "max_pooling1d_15 (MaxPooling (None, 25, 32)            0         \n",
      "_________________________________________________________________\n",
      "dropout_18 (Dropout)         (None, 25, 32)            0         \n",
      "_________________________________________________________________\n",
      "conv1d_23 (Conv1D)           (None, 25, 32)            10272     \n",
      "_________________________________________________________________\n",
      "max_pooling1d_16 (MaxPooling (None, 5, 32)             0         \n",
      "_________________________________________________________________\n",
      "dropout_19 (Dropout)         (None, 5, 32)             0         \n",
      "_________________________________________________________________\n",
      "flatten_9 (Flatten)          (None, 160)               0         \n",
      "_________________________________________________________________\n",
      "dense_13 (Dense)             (None, 6)                 966       \n",
      "=================================================================\n",
      "Total params: 14,150\n",
      "Trainable params: 14,150\n",
      "Non-trainable params: 0\n",
      "_________________________________________________________________\n"
     ]
    }
   ],
   "source": [
    "# Initiliazing the sequential model\n",
    "model = Sequential()\n",
    "# Configuring the parameters\n",
    "model.add(Conv1D(32, 10, padding='same',input_shape=(timesteps, input_dim),kernel_initializer='glorot_normal',activation='relu'))\n",
    "model.add(MaxPooling1D(5))\n",
    "# Adding a dropout layer\n",
    "model.add(Dropout(0.5))\n",
    "\n",
    "model.add(Conv1D(32, 10, padding='same',input_shape=(timesteps, input_dim),kernel_initializer='glorot_normal',activation='relu'))\n",
    "model.add(MaxPooling1D(5))\n",
    "# Adding a dropout layer\n",
    "model.add(Dropout(0.5))\n",
    "model.add(Flatten())\n",
    "# Adding a dense output layer with sigmoid activation\n",
    "model.add(Dense(n_classes, activation='sigmoid'))\n",
    "model.summary()"
   ]
  },
  {
   "cell_type": "code",
   "execution_count": 85,
   "metadata": {},
   "outputs": [],
   "source": [
    "# Compiling the model\n",
    "model.compile(loss='categorical_crossentropy',\n",
    "              optimizer='adam',\n",
    "              metrics=['accuracy'])"
   ]
  },
  {
   "cell_type": "code",
   "execution_count": 86,
   "metadata": {},
   "outputs": [
    {
     "name": "stdout",
     "output_type": "stream",
     "text": [
      "Train on 7352 samples, validate on 2947 samples\n",
      "Epoch 1/50\n",
      "7352/7352 [==============================] - 5s 613us/step - loss: 0.7439 - acc: 0.6854 - val_loss: 0.4671 - val_acc: 0.8616\n",
      "Epoch 2/50\n",
      "7352/7352 [==============================] - 4s 575us/step - loss: 0.2353 - acc: 0.9112 - val_loss: 0.3316 - val_acc: 0.8968\n",
      "Epoch 3/50\n",
      "7352/7352 [==============================] - 5s 631us/step - loss: 0.1632 - acc: 0.9373 - val_loss: 0.3357 - val_acc: 0.8918\n",
      "Epoch 4/50\n",
      "7352/7352 [==============================] - 4s 579us/step - loss: 0.1436 - acc: 0.9437 - val_loss: 0.3322 - val_acc: 0.9070\n",
      "Epoch 5/50\n",
      "7352/7352 [==============================] - 4s 593us/step - loss: 0.1273 - acc: 0.9465 - val_loss: 0.3102 - val_acc: 0.9084\n",
      "Epoch 6/50\n",
      "7352/7352 [==============================] - 4s 608us/step - loss: 0.1264 - acc: 0.9474 - val_loss: 0.3328 - val_acc: 0.9067\n",
      "Epoch 7/50\n",
      "7352/7352 [==============================] - 4s 586us/step - loss: 0.1206 - acc: 0.9501 - val_loss: 0.3462 - val_acc: 0.9094\n",
      "Epoch 8/50\n",
      "7352/7352 [==============================] - 4s 587us/step - loss: 0.1208 - acc: 0.9497 - val_loss: 0.3625 - val_acc: 0.9043\n",
      "Epoch 9/50\n",
      "7352/7352 [==============================] - 4s 576us/step - loss: 0.1171 - acc: 0.9508 - val_loss: 0.3646 - val_acc: 0.9108\n",
      "Epoch 10/50\n",
      "7352/7352 [==============================] - 4s 584us/step - loss: 0.1153 - acc: 0.9532 - val_loss: 0.3352 - val_acc: 0.9114\n",
      "Epoch 11/50\n",
      "7352/7352 [==============================] - 4s 597us/step - loss: 0.1128 - acc: 0.9527 - val_loss: 0.3817 - val_acc: 0.9091\n",
      "Epoch 12/50\n",
      "7352/7352 [==============================] - 4s 568us/step - loss: 0.1096 - acc: 0.9527 - val_loss: 0.3833 - val_acc: 0.9104\n",
      "Epoch 13/50\n",
      "7352/7352 [==============================] - 4s 578us/step - loss: 0.1100 - acc: 0.9527 - val_loss: 0.2844 - val_acc: 0.9155\n",
      "Epoch 14/50\n",
      "7352/7352 [==============================] - 4s 550us/step - loss: 0.1068 - acc: 0.9524 - val_loss: 0.3244 - val_acc: 0.9080\n",
      "Epoch 15/50\n",
      "7352/7352 [==============================] - 4s 564us/step - loss: 0.1069 - acc: 0.9548 - val_loss: 0.3008 - val_acc: 0.9053\n",
      "Epoch 16/50\n",
      "7352/7352 [==============================] - 4s 549us/step - loss: 0.1144 - acc: 0.9544 - val_loss: 0.3434 - val_acc: 0.9053\n",
      "Epoch 17/50\n",
      "7352/7352 [==============================] - 4s 576us/step - loss: 0.1026 - acc: 0.9550 - val_loss: 0.3585 - val_acc: 0.9104\n",
      "Epoch 18/50\n",
      "7352/7352 [==============================] - 5s 643us/step - loss: 0.1001 - acc: 0.9574 - val_loss: 0.4046 - val_acc: 0.9067\n",
      "Epoch 19/50\n",
      "7352/7352 [==============================] - 5s 616us/step - loss: 0.0983 - acc: 0.9548 - val_loss: 0.3691 - val_acc: 0.9043\n",
      "Epoch 20/50\n",
      "7352/7352 [==============================] - 4s 584us/step - loss: 0.1016 - acc: 0.9562 - val_loss: 0.3386 - val_acc: 0.9111\n",
      "Epoch 21/50\n",
      "7352/7352 [==============================] - 4s 566us/step - loss: 0.1038 - acc: 0.9544 - val_loss: 0.2639 - val_acc: 0.9145\n",
      "Epoch 22/50\n",
      "7352/7352 [==============================] - 4s 582us/step - loss: 0.0987 - acc: 0.9567 - val_loss: 0.2453 - val_acc: 0.9111\n",
      "Epoch 23/50\n",
      "7352/7352 [==============================] - 4s 577us/step - loss: 0.0962 - acc: 0.9584 - val_loss: 0.2775 - val_acc: 0.9050\n",
      "Epoch 24/50\n",
      "7352/7352 [==============================] - 4s 564us/step - loss: 0.0993 - acc: 0.9577 - val_loss: 0.3227 - val_acc: 0.9046\n",
      "Epoch 25/50\n",
      "7352/7352 [==============================] - 4s 574us/step - loss: 0.0935 - acc: 0.9557 - val_loss: 0.2609 - val_acc: 0.9108\n",
      "Epoch 26/50\n",
      "7352/7352 [==============================] - 4s 574us/step - loss: 0.0881 - acc: 0.9585 - val_loss: 0.3004 - val_acc: 0.9097\n",
      "Epoch 27/50\n",
      "7352/7352 [==============================] - 4s 570us/step - loss: 0.0887 - acc: 0.9558 - val_loss: 0.3578 - val_acc: 0.9009\n",
      "Epoch 28/50\n",
      "7352/7352 [==============================] - 4s 580us/step - loss: 0.0920 - acc: 0.9536 - val_loss: 0.2748 - val_acc: 0.9091\n",
      "Epoch 29/50\n",
      "7352/7352 [==============================] - 4s 564us/step - loss: 0.0838 - acc: 0.9592 - val_loss: 0.2854 - val_acc: 0.9104\n",
      "Epoch 30/50\n",
      "7352/7352 [==============================] - 4s 570us/step - loss: 0.0851 - acc: 0.9588 - val_loss: 0.3672 - val_acc: 0.9023\n",
      "Epoch 31/50\n",
      "7352/7352 [==============================] - 4s 585us/step - loss: 0.0874 - acc: 0.9584 - val_loss: 0.4427 - val_acc: 0.9002\n",
      "Epoch 32/50\n",
      "7352/7352 [==============================] - 4s 593us/step - loss: 0.0867 - acc: 0.9588 - val_loss: 0.3407 - val_acc: 0.9036\n",
      "Epoch 33/50\n",
      "7352/7352 [==============================] - 4s 576us/step - loss: 0.0833 - acc: 0.9582 - val_loss: 0.3294 - val_acc: 0.9091\n",
      "Epoch 34/50\n",
      "7352/7352 [==============================] - 4s 577us/step - loss: 0.0833 - acc: 0.9587 - val_loss: 0.3662 - val_acc: 0.9080\n",
      "Epoch 35/50\n",
      "7352/7352 [==============================] - 4s 574us/step - loss: 0.0835 - acc: 0.9597 - val_loss: 0.3550 - val_acc: 0.9097\n",
      "Epoch 36/50\n",
      "7352/7352 [==============================] - 4s 569us/step - loss: 0.0845 - acc: 0.9597 - val_loss: 0.3873 - val_acc: 0.9030\n",
      "Epoch 37/50\n",
      "7352/7352 [==============================] - 4s 568us/step - loss: 0.0855 - acc: 0.9606 - val_loss: 0.4115 - val_acc: 0.9040\n",
      "Epoch 38/50\n",
      "7352/7352 [==============================] - 4s 565us/step - loss: 0.0818 - acc: 0.9603 - val_loss: 0.3923 - val_acc: 0.9060\n",
      "Epoch 39/50\n",
      "7352/7352 [==============================] - 4s 590us/step - loss: 0.0803 - acc: 0.9591 - val_loss: 0.3887 - val_acc: 0.9050\n",
      "Epoch 40/50\n",
      "7352/7352 [==============================] - 4s 583us/step - loss: 0.0780 - acc: 0.9611 - val_loss: 0.3835 - val_acc: 0.9114\n",
      "Epoch 41/50\n",
      "7352/7352 [==============================] - 4s 575us/step - loss: 0.0815 - acc: 0.9635 - val_loss: 0.4100 - val_acc: 0.9040\n",
      "Epoch 42/50\n",
      "7352/7352 [==============================] - 4s 572us/step - loss: 0.0791 - acc: 0.9600 - val_loss: 0.3729 - val_acc: 0.9135\n",
      "Epoch 43/50\n",
      "7352/7352 [==============================] - 4s 576us/step - loss: 0.0839 - acc: 0.9610 - val_loss: 0.4283 - val_acc: 0.8880\n",
      "Epoch 44/50\n",
      "7352/7352 [==============================] - 4s 585us/step - loss: 0.0820 - acc: 0.9603 - val_loss: 0.4371 - val_acc: 0.9067\n",
      "Epoch 45/50\n",
      "7352/7352 [==============================] - 4s 607us/step - loss: 0.0871 - acc: 0.9593 - val_loss: 0.3537 - val_acc: 0.9118\n",
      "Epoch 46/50\n",
      "7352/7352 [==============================] - 4s 608us/step - loss: 0.0792 - acc: 0.9608 - val_loss: 0.4301 - val_acc: 0.9026\n",
      "Epoch 47/50\n",
      "7352/7352 [==============================] - 4s 585us/step - loss: 0.0747 - acc: 0.9633 - val_loss: 0.4802 - val_acc: 0.9101\n",
      "Epoch 48/50\n",
      "7352/7352 [==============================] - 4s 590us/step - loss: 0.0730 - acc: 0.9641 - val_loss: 0.4421 - val_acc: 0.9111\n",
      "Epoch 49/50\n",
      "7352/7352 [==============================] - 4s 573us/step - loss: 0.0881 - acc: 0.9592 - val_loss: 0.4327 - val_acc: 0.9074\n",
      "Epoch 50/50\n",
      "7352/7352 [==============================] - 4s 572us/step - loss: 0.0823 - acc: 0.9611 - val_loss: 0.4952 - val_acc: 0.9053\n"
     ]
    },
    {
     "data": {
      "text/plain": [
       "<keras.callbacks.History at 0x20fe1c88>"
      ]
     },
     "execution_count": 86,
     "metadata": {},
     "output_type": "execute_result"
    }
   ],
   "source": [
    "# Training the model\n",
    "model.fit(X_train,\n",
    "          Y_train,\n",
    "          batch_size=batch_size,\n",
    "          validation_data=(X_test, Y_test),\n",
    "          epochs=50)"
   ]
  },
  {
   "cell_type": "code",
   "execution_count": 81,
   "metadata": {},
   "outputs": [
    {
     "name": "stdout",
     "output_type": "stream",
     "text": [
      "Pred                LAYING        ...         WALKING_UPSTAIRS\n",
      "True                              ...                         \n",
      "LAYING                 510        ...                        2\n",
      "SITTING                  0        ...                       19\n",
      "STANDING                 0        ...                        1\n",
      "WALKING                  0        ...                        1\n",
      "WALKING_DOWNSTAIRS       0        ...                        3\n",
      "WALKING_UPSTAIRS         1        ...                      453\n",
      "\n",
      "[6 rows x 6 columns]\n"
     ]
    }
   ],
   "source": [
    "# Confusion Matrix\n",
    "print(confusion_matrix(Y_test, model.predict(X_test)))\n",
    "score = model.evaluate(X_test, Y_test)\n",
    "score"
   ]
  },
  {
   "cell_type": "code",
   "execution_count": 82,
   "metadata": {},
   "outputs": [
    {
     "name": "stdout",
     "output_type": "stream",
     "text": [
      "2947/2947 [==============================] - 0s 154us/step\n"
     ]
    }
   ],
   "source": [
    "score = model.evaluate(X_test, Y_test)"
   ]
  },
  {
   "cell_type": "code",
   "execution_count": 83,
   "metadata": {},
   "outputs": [
    {
     "data": {
      "text/plain": [
       "[0.30769265981690036, 0.9172039362063115]"
      ]
     },
     "execution_count": 83,
     "metadata": {},
     "output_type": "execute_result"
    }
   ],
   "source": [
    "score"
   ]
  },
  {
   "cell_type": "markdown",
   "metadata": {},
   "source": [
    "## Hyper-parameter Tuning on different Parameters"
   ]
  },
  {
   "cell_type": "code",
   "execution_count": 18,
   "metadata": {},
   "outputs": [],
   "source": [
    "def create_model(activation='relu',dropout_rate=0.0,init_mode='uniform',optimizer='adam',filters=32,kernel_size=5,pool_size=5):\n",
    "    \n",
    "    \n",
    "    model = Sequential()\n",
    "    model.add(Conv1D(filters, kernel_size, padding='same',input_shape=(128,9),kernel_initializer=init_mode,activation='relu'))\n",
    "    model.add(MaxPooling1D(pool_size))\n",
    "    model.add(Dropout(dropout_rate))\n",
    "    model.add(Conv1D(filters, kernel_size, padding='same',input_shape=(128,9),kernel_initializer=init_mode, activation='relu'))\n",
    "    model.add(MaxPooling1D(pool_size))\n",
    "    model.add(Flatten())\n",
    "    model.add(Dense(6, activation='sigmoid'))\n",
    "    # Compile model\n",
    "    model.compile(loss='binary_crossentropy', optimizer=optimizer, metrics=['accuracy'])\n",
    "    return model"
   ]
  },
  {
   "cell_type": "code",
   "execution_count": 20,
   "metadata": {},
   "outputs": [
    {
     "name": "stderr",
     "output_type": "stream",
     "text": [
      "C:\\Users\\Home\\Anaconda\\lib\\site-packages\\joblib\\externals\\loky\\process_executor.py:706: UserWarning: A worker stopped while some jobs were given to the executor. This can be caused by a too short worker timeout or by a memory leak.\n",
      "  \"timeout or by a memory leak.\", UserWarning\n"
     ]
    },
    {
     "name": "stdout",
     "output_type": "stream",
     "text": [
      "Epoch 1/30\n",
      " - 5s - loss: 0.2604 - acc: 0.8897\n",
      "Epoch 2/30\n",
      " - 5s - loss: 0.1461 - acc: 0.9374\n",
      "Epoch 3/30\n",
      " - 5s - loss: 0.0935 - acc: 0.9621\n",
      "Epoch 4/30\n",
      " - 5s - loss: 0.0684 - acc: 0.9724\n",
      "Epoch 5/30\n",
      " - 5s - loss: 0.0605 - acc: 0.9754\n",
      "Epoch 6/30\n",
      " - 5s - loss: 0.0531 - acc: 0.9788\n",
      "Epoch 7/30\n",
      " - 5s - loss: 0.0521 - acc: 0.9790\n",
      "Epoch 8/30\n",
      " - 5s - loss: 0.0473 - acc: 0.9804\n",
      "Epoch 9/30\n",
      " - 5s - loss: 0.0473 - acc: 0.9809\n",
      "Epoch 10/30\n",
      " - 5s - loss: 0.0454 - acc: 0.9813\n",
      "Epoch 11/30\n",
      " - 5s - loss: 0.0420 - acc: 0.9826\n",
      "Epoch 12/30\n",
      " - 5s - loss: 0.0426 - acc: 0.9822\n",
      "Epoch 13/30\n",
      " - 5s - loss: 0.0406 - acc: 0.9828\n",
      "Epoch 14/30\n",
      " - 5s - loss: 0.0399 - acc: 0.9845\n",
      "Epoch 15/30\n",
      " - 5s - loss: 0.0381 - acc: 0.9835\n",
      "Epoch 16/30\n",
      " - 5s - loss: 0.0388 - acc: 0.9843\n",
      "Epoch 17/30\n",
      " - 5s - loss: 0.0378 - acc: 0.9843\n",
      "Epoch 18/30\n",
      " - 5s - loss: 0.0376 - acc: 0.9843\n",
      "Epoch 19/30\n",
      " - 5s - loss: 0.0393 - acc: 0.9834\n",
      "Epoch 20/30\n",
      " - 5s - loss: 0.0385 - acc: 0.9842\n",
      "Epoch 21/30\n",
      " - 5s - loss: 0.0366 - acc: 0.9849\n",
      "Epoch 22/30\n",
      " - 5s - loss: 0.0377 - acc: 0.9839\n",
      "Epoch 23/30\n",
      " - 5s - loss: 0.0379 - acc: 0.9840\n",
      "Epoch 24/30\n",
      " - 5s - loss: 0.0365 - acc: 0.9846\n",
      "Epoch 25/30\n",
      " - 5s - loss: 0.0353 - acc: 0.9849\n",
      "Epoch 26/30\n",
      " - 5s - loss: 0.0353 - acc: 0.9849\n",
      "Epoch 27/30\n",
      " - 5s - loss: 0.0357 - acc: 0.9849\n",
      "Epoch 28/30\n",
      " - 5s - loss: 0.0343 - acc: 0.9851\n",
      "Epoch 29/30\n",
      " - 5s - loss: 0.0356 - acc: 0.9851\n",
      "Epoch 30/30\n",
      " - 5s - loss: 0.0342 - acc: 0.9851\n",
      "Best: 0.976038 using {'pool_size': 5, 'optimizer': 'Adadelta', 'kernel_size': 6, 'init_mode': 'he_normal', 'filters': 64, 'epochs': 30, 'dropout_rate': 0.7, 'batch_size': 32}\n",
      "0.971459 (0.019400) with: {'pool_size': 5, 'optimizer': 'Adam', 'kernel_size': 7, 'init_mode': 'glorot_uniform', 'filters': 64, 'epochs': 30, 'dropout_rate': 0.6, 'batch_size': 16}\n",
      "0.976038 (0.009499) with: {'pool_size': 5, 'optimizer': 'Adadelta', 'kernel_size': 6, 'init_mode': 'he_normal', 'filters': 64, 'epochs': 30, 'dropout_rate': 0.7, 'batch_size': 32}\n",
      "0.971527 (0.012461) with: {'pool_size': 5, 'optimizer': 'Adam', 'kernel_size': 5, 'init_mode': 'glorot_normal', 'filters': 64, 'epochs': 30, 'dropout_rate': 0.6, 'batch_size': 32}\n",
      "0.972388 (0.014769) with: {'pool_size': 7, 'optimizer': 'Adam', 'kernel_size': 6, 'init_mode': 'glorot_uniform', 'filters': 128, 'epochs': 30, 'dropout_rate': 0.5, 'batch_size': 16}\n",
      "0.972434 (0.014530) with: {'pool_size': 7, 'optimizer': 'Adam', 'kernel_size': 4, 'init_mode': 'glorot_normal', 'filters': 128, 'epochs': 30, 'dropout_rate': 0.8, 'batch_size': 32}\n",
      "0.960192 (0.012721) with: {'pool_size': 5, 'optimizer': 'RMSprop', 'kernel_size': 7, 'init_mode': 'he_uniform', 'filters': 128, 'epochs': 30, 'dropout_rate': 0.6, 'batch_size': 32}\n",
      "0.975834 (0.010199) with: {'pool_size': 8, 'optimizer': 'RMSprop', 'kernel_size': 4, 'init_mode': 'he_normal', 'filters': 64, 'epochs': 30, 'dropout_rate': 0.6, 'batch_size': 32}\n",
      "0.974429 (0.015042) with: {'pool_size': 8, 'optimizer': 'RMSprop', 'kernel_size': 7, 'init_mode': 'glorot_normal', 'filters': 32, 'epochs': 30, 'dropout_rate': 0.6, 'batch_size': 32}\n",
      "0.974746 (0.010974) with: {'pool_size': 7, 'optimizer': 'Adam', 'kernel_size': 6, 'init_mode': 'he_normal', 'filters': 32, 'epochs': 30, 'dropout_rate': 0.5, 'batch_size': 16}\n",
      "0.966789 (0.015871) with: {'pool_size': 6, 'optimizer': 'Adadelta', 'kernel_size': 4, 'init_mode': 'he_uniform', 'filters': 128, 'epochs': 30, 'dropout_rate': 0.7, 'batch_size': 16}\n"
     ]
    }
   ],
   "source": [
    "\n",
    "from sklearn.model_selection import RandomizedSearchCV,GridSearchCV\n",
    "from keras.models import Sequential\n",
    "from keras.layers import Dense\n",
    "from keras.wrappers.scikit_learn import KerasClassifier\n",
    "\n",
    "model = KerasClassifier(build_fn=create_model,verbose=2)\n",
    "# define the grid search parameters\n",
    "# n = [32,64,128]\n",
    "optimizer = ['RMSprop', 'Adadelta', 'Adam']\n",
    "init_mode = ['glorot_normal', 'glorot_uniform', 'he_normal', 'he_uniform']\n",
    "dropout_rate = [0.5, 0.6, 0.7, 0.8]\n",
    "batch_size = [16,32]\n",
    "epochs = [30]\n",
    "filters = [32,64,128]\n",
    "kernel_size = [4,5,6,7]\n",
    "pool_size = [5,6,7,8]\n",
    "# learn_rate = [0.001, 0.01, 0.1, 0.2, 0.3]\n",
    "\n",
    "param_grid = dict(optimizer=optimizer,init_mode=init_mode,dropout_rate=dropout_rate,batch_size=batch_size,epochs=epochs,\n",
    "                  filters = filters,kernel_size=kernel_size,pool_size=pool_size)\n",
    "\n",
    "rcv = RandomizedSearchCV(estimator=model, param_distributions=param_grid, n_jobs=-1,cv=6)\n",
    "result = rcv.fit(X_train, Y_train)\n",
    "\n",
    "# summarize results\n",
    "print(\"Best: %f using %s\" % (result.best_score_, result.best_params_))\n",
    "means = result.cv_results_['mean_test_score']\n",
    "stds = result.cv_results_['std_test_score']\n",
    "params = result.cv_results_['params']\n",
    "for mean, stdev, param in zip(means, stds, params):\n",
    "    print(\"%f (%f) with: %r\" % (mean, stdev, param))"
   ]
  },
  {
   "cell_type": "code",
   "execution_count": 21,
   "metadata": {},
   "outputs": [
    {
     "data": {
      "text/plain": [
       "{'pool_size': 5,\n",
       " 'optimizer': 'Adadelta',\n",
       " 'kernel_size': 6,\n",
       " 'init_mode': 'he_normal',\n",
       " 'filters': 64,\n",
       " 'epochs': 30,\n",
       " 'dropout_rate': 0.7,\n",
       " 'batch_size': 32}"
      ]
     },
     "execution_count": 21,
     "metadata": {},
     "output_type": "execute_result"
    }
   ],
   "source": [
    "result.best_params_"
   ]
  },
  {
   "cell_type": "code",
   "execution_count": 23,
   "metadata": {},
   "outputs": [
    {
     "name": "stdout",
     "output_type": "stream",
     "text": [
      "Train on 7352 samples, validate on 2947 samples\n",
      "Epoch 1/30\n",
      "7352/7352 [==============================] - 6s 836us/step - loss: 0.2621 - acc: 0.8893 - val_loss: 0.2537 - val_acc: 0.8927\n",
      "Epoch 2/30\n",
      "7352/7352 [==============================] - 6s 814us/step - loss: 0.1445 - acc: 0.9384 - val_loss: 0.2365 - val_acc: 0.9071\n",
      "Epoch 3/30\n",
      "7352/7352 [==============================] - 6s 825us/step - loss: 0.0907 - acc: 0.9640 - val_loss: 0.1683 - val_acc: 0.9334\n",
      "Epoch 4/30\n",
      "7352/7352 [==============================] - 6s 797us/step - loss: 0.0705 - acc: 0.9725 - val_loss: 0.1429 - val_acc: 0.9430\n",
      "Epoch 5/30\n",
      "7352/7352 [==============================] - 6s 790us/step - loss: 0.0590 - acc: 0.9768 - val_loss: 0.1267 - val_acc: 0.9477\n",
      "Epoch 6/30\n",
      "7352/7352 [==============================] - 6s 823us/step - loss: 0.0542 - acc: 0.9776 - val_loss: 0.1072 - val_acc: 0.9589\n",
      "Epoch 7/30\n",
      "7352/7352 [==============================] - 6s 796us/step - loss: 0.0516 - acc: 0.9784 - val_loss: 0.1100 - val_acc: 0.9557\n",
      "Epoch 8/30\n",
      "7352/7352 [==============================] - 6s 797us/step - loss: 0.0481 - acc: 0.9796 - val_loss: 0.0951 - val_acc: 0.9622\n",
      "Epoch 9/30\n",
      "7352/7352 [==============================] - 6s 785us/step - loss: 0.0467 - acc: 0.9805 - val_loss: 0.0988 - val_acc: 0.9591\n",
      "Epoch 10/30\n",
      "7352/7352 [==============================] - 6s 788us/step - loss: 0.0446 - acc: 0.9808 - val_loss: 0.0996 - val_acc: 0.9626\n",
      "Epoch 11/30\n",
      "7352/7352 [==============================] - 6s 788us/step - loss: 0.0434 - acc: 0.9820 - val_loss: 0.1043 - val_acc: 0.9562\n",
      "Epoch 12/30\n",
      "7352/7352 [==============================] - 6s 798us/step - loss: 0.0425 - acc: 0.9823 - val_loss: 0.0940 - val_acc: 0.9648\n",
      "Epoch 13/30\n",
      "7352/7352 [==============================] - 6s 786us/step - loss: 0.0418 - acc: 0.9817 - val_loss: 0.0901 - val_acc: 0.9633\n",
      "Epoch 14/30\n",
      "7352/7352 [==============================] - 6s 783us/step - loss: 0.0415 - acc: 0.9826 - val_loss: 0.0867 - val_acc: 0.9661\n",
      "Epoch 15/30\n",
      "7352/7352 [==============================] - 6s 786us/step - loss: 0.0396 - acc: 0.9834 - val_loss: 0.0871 - val_acc: 0.9647\n",
      "Epoch 16/30\n",
      "7352/7352 [==============================] - 6s 784us/step - loss: 0.0405 - acc: 0.9829 - val_loss: 0.0826 - val_acc: 0.9677\n",
      "Epoch 17/30\n",
      "7352/7352 [==============================] - 6s 788us/step - loss: 0.0379 - acc: 0.9837 - val_loss: 0.0937 - val_acc: 0.9635\n",
      "Epoch 18/30\n",
      "7352/7352 [==============================] - 6s 786us/step - loss: 0.0392 - acc: 0.9836 - val_loss: 0.0902 - val_acc: 0.9626\n",
      "Epoch 19/30\n",
      "7352/7352 [==============================] - 6s 790us/step - loss: 0.0391 - acc: 0.9829 - val_loss: 0.0778 - val_acc: 0.9641\n",
      "Epoch 20/30\n",
      "7352/7352 [==============================] - 6s 791us/step - loss: 0.0380 - acc: 0.9842 - val_loss: 0.0811 - val_acc: 0.9684\n",
      "Epoch 21/30\n",
      "7352/7352 [==============================] - 6s 794us/step - loss: 0.0373 - acc: 0.9839 - val_loss: 0.0830 - val_acc: 0.9679\n",
      "Epoch 22/30\n",
      "7352/7352 [==============================] - 6s 812us/step - loss: 0.0368 - acc: 0.9843 - val_loss: 0.0834 - val_acc: 0.9674\n",
      "Epoch 23/30\n",
      "7352/7352 [==============================] - 6s 814us/step - loss: 0.0366 - acc: 0.9843 - val_loss: 0.0824 - val_acc: 0.9697\n",
      "Epoch 24/30\n",
      "7352/7352 [==============================] - 6s 814us/step - loss: 0.0365 - acc: 0.9837 - val_loss: 0.0845 - val_acc: 0.9662\n",
      "Epoch 25/30\n",
      "7352/7352 [==============================] - 6s 809us/step - loss: 0.0371 - acc: 0.9842 - val_loss: 0.0921 - val_acc: 0.9635\n",
      "Epoch 26/30\n",
      "7352/7352 [==============================] - 6s 802us/step - loss: 0.0359 - acc: 0.9843 - val_loss: 0.0805 - val_acc: 0.9704\n",
      "Epoch 27/30\n",
      "7352/7352 [==============================] - 6s 796us/step - loss: 0.0351 - acc: 0.9843 - val_loss: 0.0875 - val_acc: 0.9680\n",
      "Epoch 28/30\n",
      "7352/7352 [==============================] - 6s 811us/step - loss: 0.0346 - acc: 0.9845 - val_loss: 0.0828 - val_acc: 0.9700\n",
      "Epoch 29/30\n",
      "7352/7352 [==============================] - 6s 791us/step - loss: 0.0359 - acc: 0.9844 - val_loss: 0.0870 - val_acc: 0.9704\n",
      "Epoch 30/30\n",
      "7352/7352 [==============================] - 6s 796us/step - loss: 0.0359 - acc: 0.9845 - val_loss: 0.0850 - val_acc: 0.9699\n"
     ]
    },
    {
     "data": {
      "text/plain": [
       "<keras.callbacks.History at 0x7073e10>"
      ]
     },
     "execution_count": 23,
     "metadata": {},
     "output_type": "execute_result"
    }
   ],
   "source": [
    "model = Sequential()\n",
    "model.add(Conv1D(64, 6, padding='same',input_shape=(128,9),kernel_initializer='he_normal',activation='relu'))\n",
    "model.add(MaxPooling1D(5))\n",
    "model.add(Dropout(0.7))\n",
    "model.add(Conv1D(64, 6, padding='same',input_shape=(128,9),kernel_initializer='he_normal', activation='relu'))\n",
    "model.add(MaxPooling1D(5))\n",
    "model.add(Flatten())\n",
    "model.add(Dense(6, activation='sigmoid'))\n",
    "    # Compile model\n",
    "model.compile(loss='binary_crossentropy', optimizer='Adadelta', metrics=['accuracy'])\n",
    "\n",
    "model.fit(X_train, Y_train, epochs=30, batch_size=32,validation_data=(X_test, Y_test))"
   ]
  },
  {
   "cell_type": "code",
   "execution_count": 24,
   "metadata": {},
   "outputs": [
    {
     "name": "stdout",
     "output_type": "stream",
     "text": [
      "Pred                LAYING  SITTING  STANDING  WALKING  WALKING_DOWNSTAIRS  \\\n",
      "True                                                                         \n",
      "LAYING                 510        0         0        0                   0   \n",
      "SITTING                  0      433        33        0                   0   \n",
      "STANDING                 0      118       410        3                   0   \n",
      "WALKING                  0        0         0      485                  10   \n",
      "WALKING_DOWNSTAIRS       0        0         0        0                 420   \n",
      "WALKING_UPSTAIRS         0        0         0        1                  16   \n",
      "\n",
      "Pred                WALKING_UPSTAIRS  \n",
      "True                                  \n",
      "LAYING                            27  \n",
      "SITTING                           25  \n",
      "STANDING                           1  \n",
      "WALKING                            1  \n",
      "WALKING_DOWNSTAIRS                 0  \n",
      "WALKING_UPSTAIRS                 454  \n",
      "2947/2947 [==============================] - 1s 264us/step\n"
     ]
    },
    {
     "data": {
      "text/plain": [
       "[0.08501992526514388, 0.9699129047011941]"
      ]
     },
     "execution_count": 24,
     "metadata": {},
     "output_type": "execute_result"
    }
   ],
   "source": [
    "# Confusion Matrix\n",
    "print(confusion_matrix(Y_test, model.predict(X_test)))\n",
    "score = model.evaluate(X_test, Y_test)\n",
    "score"
   ]
  },
  {
   "cell_type": "code",
   "execution_count": 1,
   "metadata": {},
   "outputs": [
    {
     "name": "stdout",
     "output_type": "stream",
     "text": [
      "+--------+------------------+---------+--------------------+-----------+----------+----------+\n",
      "| Model  | Number of Layers | Dropout | Kernel Initializer | Optimizer | Log Loss | Accuracy |\n",
      "+--------+------------------+---------+--------------------+-----------+----------+----------+\n",
      "|  LSTM  |        1         |   0.5   |       Normal       |  RMSprop  |   0.42   |   0.9    |\n",
      "| CNN 1D |        2         |   0.5   |   Glorot Normal    |    Adam   |   0.3    |  0.917   |\n",
      "| CNN 1D |        2         |   0.7   |     He Normal      |  Adadelta |   0.08   |   0.97   |\n",
      "+--------+------------------+---------+--------------------+-----------+----------+----------+\n"
     ]
    }
   ],
   "source": [
    "from prettytable import PrettyTable\n",
    "x = PrettyTable()\n",
    "x.field_names = [\"Model\", \"Number of Layers\",\"Dropout\",\"Kernel Initializer\",\"Optimizer\",\"Log Loss\",\"Accuracy\"]\n",
    "\n",
    "x.add_row([\"LSTM\",1,0.5,'Normal','RMSprop',0.42,0.90])\n",
    "x.add_row([\"CNN 1D\",2,0.5,'Glorot Normal','Adam',0.30,0.917])\n",
    "x.add_row([\"CNN 1D\",2,0.7,'He Normal','Adadelta',0.08,0.97])\n",
    "print(x)"
   ]
  },
  {
   "cell_type": "markdown",
   "metadata": {},
   "source": [
    "Summary and Thought Process behind execution :\n",
    "    \n",
    "The initial model implemented was the LSTM model, with Normal kernel initializer,single layer and a dropout rate of 0.5.\n",
    "With optimizer RMSprop, this model gave a log loss of 0.42 and an accuracy of 90%.\n",
    "\n",
    "The second model implemented was CNN 1D, without any hyper-parameter tuning. This gave an improved score of accuracy 91.7% and\n",
    "log loss of 0.3\n",
    "\n",
    "After performing hyper-parameter tuning on the CNN 1D model, with the final parameters, the accuracy boosted upto 97% and the log loss\n",
    "reduced considerably to 0.08.\n",
    "\n",
    "\n",
    "    "
   ]
  },
  {
   "cell_type": "code",
   "execution_count": null,
   "metadata": {},
   "outputs": [],
   "source": []
  }
 ],
 "metadata": {
  "kernelspec": {
   "display_name": "Python 3",
   "language": "python",
   "name": "python3"
  },
  "language_info": {
   "codemirror_mode": {
    "name": "ipython",
    "version": 3
   },
   "file_extension": ".py",
   "mimetype": "text/x-python",
   "name": "python",
   "nbconvert_exporter": "python",
   "pygments_lexer": "ipython3",
   "version": "3.6.5"
  }
 },
 "nbformat": 4,
 "nbformat_minor": 2
}
